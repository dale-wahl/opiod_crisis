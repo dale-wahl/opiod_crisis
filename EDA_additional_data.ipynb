{
 "cells": [
  {
   "cell_type": "code",
   "execution_count": 2,
   "metadata": {
    "collapsed": true
   },
   "outputs": [],
   "source": [
    "import pandas as pd"
   ]
  },
  {
   "cell_type": "markdown",
   "metadata": {},
   "source": [
    "Dataset is for National Survey on Drug Use and Health.  They did a survey with individuals from all states on drug use and includes lots of demographic information.\n",
    "\n",
    "The codebook goes over what each column stands for and will be needed to decifer anything:\n",
    "NSDUH-2015-DS0001-bndl-data-tsv/NSDUH-2015-DS0001-info/NSDUH-2015-DS0001-info-codebook.pdf\n",
    "\n",
    "Link to original data here:\n",
    "https://www.datafiles.samhsa.gov/study/national-survey-drug-use-and-health-nsduh-2015-nid16893\n",
    "\n",
    "Posted it on DropBox as well:\n",
    "https://www.dropbox.com/sh/v4a25iaq8yl2oa5/AADEtiNomZvn2B_vSWF3A8pHa?dl=0"
   ]
  },
  {
   "cell_type": "code",
   "execution_count": 3,
   "metadata": {},
   "outputs": [
    {
     "name": "stderr",
     "output_type": "stream",
     "text": [
      "/anaconda/lib/python3.6/site-packages/IPython/core/interactiveshell.py:2717: DtypeWarning: Columns (2501) have mixed types. Specify dtype option on import or set low_memory=False.\n",
      "  interactivity=interactivity, compiler=compiler, result=result)\n"
     ]
    }
   ],
   "source": [
    "drug_use = pd.read_table('../../Datasets/NSDUH-2015-DS0001-bndl-data-tsv/NSDUH-2015-DS0001-data/NSDUH-2015-DS0001-data-excel.tsv', sep='\\t')"
   ]
  },
  {
   "cell_type": "code",
   "execution_count": 4,
   "metadata": {},
   "outputs": [
    {
     "data": {
      "text/html": [
       "<div>\n",
       "<style>\n",
       "    .dataframe thead tr:only-child th {\n",
       "        text-align: right;\n",
       "    }\n",
       "\n",
       "    .dataframe thead th {\n",
       "        text-align: left;\n",
       "    }\n",
       "\n",
       "    .dataframe tbody tr th {\n",
       "        vertical-align: top;\n",
       "    }\n",
       "</style>\n",
       "<table border=\"1\" class=\"dataframe\">\n",
       "  <thead>\n",
       "    <tr style=\"text-align: right;\">\n",
       "      <th></th>\n",
       "      <th>QUESTID2</th>\n",
       "      <th>FILEDATE</th>\n",
       "      <th>CIGEVER</th>\n",
       "      <th>CIGOFRSM</th>\n",
       "      <th>CIGWILYR</th>\n",
       "      <th>CIGTRY</th>\n",
       "      <th>CIGYFU</th>\n",
       "      <th>CIGMFU</th>\n",
       "      <th>CIGREC</th>\n",
       "      <th>CIG30USE</th>\n",
       "      <th>...</th>\n",
       "      <th>POVERTY3</th>\n",
       "      <th>TOOLONG</th>\n",
       "      <th>TROUBUND</th>\n",
       "      <th>PDEN10</th>\n",
       "      <th>COUTYP2</th>\n",
       "      <th>MAIIN102</th>\n",
       "      <th>AIIND102</th>\n",
       "      <th>ANALWT_C</th>\n",
       "      <th>VESTR</th>\n",
       "      <th>VEREP</th>\n",
       "    </tr>\n",
       "  </thead>\n",
       "  <tbody>\n",
       "    <tr>\n",
       "      <th>0</th>\n",
       "      <td>25095143</td>\n",
       "      <td>10/20/2016</td>\n",
       "      <td>1</td>\n",
       "      <td>99</td>\n",
       "      <td>99</td>\n",
       "      <td>16</td>\n",
       "      <td>2014</td>\n",
       "      <td>1</td>\n",
       "      <td>2</td>\n",
       "      <td>93</td>\n",
       "      <td>...</td>\n",
       "      <td>1.0</td>\n",
       "      <td>2</td>\n",
       "      <td>2</td>\n",
       "      <td>3</td>\n",
       "      <td>3</td>\n",
       "      <td>2</td>\n",
       "      <td>2</td>\n",
       "      <td>1088.413235</td>\n",
       "      <td>40028</td>\n",
       "      <td>1</td>\n",
       "    </tr>\n",
       "    <tr>\n",
       "      <th>1</th>\n",
       "      <td>13005143</td>\n",
       "      <td>10/20/2016</td>\n",
       "      <td>1</td>\n",
       "      <td>99</td>\n",
       "      <td>99</td>\n",
       "      <td>15</td>\n",
       "      <td>9999</td>\n",
       "      <td>99</td>\n",
       "      <td>3</td>\n",
       "      <td>93</td>\n",
       "      <td>...</td>\n",
       "      <td>2.0</td>\n",
       "      <td>1</td>\n",
       "      <td>2</td>\n",
       "      <td>2</td>\n",
       "      <td>2</td>\n",
       "      <td>2</td>\n",
       "      <td>2</td>\n",
       "      <td>4423.360328</td>\n",
       "      <td>40025</td>\n",
       "      <td>1</td>\n",
       "    </tr>\n",
       "    <tr>\n",
       "      <th>2</th>\n",
       "      <td>67415143</td>\n",
       "      <td>10/20/2016</td>\n",
       "      <td>2</td>\n",
       "      <td>99</td>\n",
       "      <td>99</td>\n",
       "      <td>991</td>\n",
       "      <td>9991</td>\n",
       "      <td>91</td>\n",
       "      <td>91</td>\n",
       "      <td>91</td>\n",
       "      <td>...</td>\n",
       "      <td>1.0</td>\n",
       "      <td>2</td>\n",
       "      <td>2</td>\n",
       "      <td>2</td>\n",
       "      <td>3</td>\n",
       "      <td>2</td>\n",
       "      <td>2</td>\n",
       "      <td>328.111801</td>\n",
       "      <td>40004</td>\n",
       "      <td>2</td>\n",
       "    </tr>\n",
       "    <tr>\n",
       "      <th>3</th>\n",
       "      <td>70925143</td>\n",
       "      <td>10/20/2016</td>\n",
       "      <td>2</td>\n",
       "      <td>3</td>\n",
       "      <td>4</td>\n",
       "      <td>991</td>\n",
       "      <td>9991</td>\n",
       "      <td>91</td>\n",
       "      <td>91</td>\n",
       "      <td>91</td>\n",
       "      <td>...</td>\n",
       "      <td>3.0</td>\n",
       "      <td>2</td>\n",
       "      <td>2</td>\n",
       "      <td>2</td>\n",
       "      <td>2</td>\n",
       "      <td>2</td>\n",
       "      <td>2</td>\n",
       "      <td>235.290450</td>\n",
       "      <td>40027</td>\n",
       "      <td>1</td>\n",
       "    </tr>\n",
       "    <tr>\n",
       "      <th>4</th>\n",
       "      <td>75235143</td>\n",
       "      <td>10/20/2016</td>\n",
       "      <td>1</td>\n",
       "      <td>99</td>\n",
       "      <td>99</td>\n",
       "      <td>17</td>\n",
       "      <td>9999</td>\n",
       "      <td>99</td>\n",
       "      <td>1</td>\n",
       "      <td>22</td>\n",
       "      <td>...</td>\n",
       "      <td>1.0</td>\n",
       "      <td>2</td>\n",
       "      <td>2</td>\n",
       "      <td>3</td>\n",
       "      <td>3</td>\n",
       "      <td>2</td>\n",
       "      <td>2</td>\n",
       "      <td>2280.878615</td>\n",
       "      <td>40011</td>\n",
       "      <td>1</td>\n",
       "    </tr>\n",
       "  </tbody>\n",
       "</table>\n",
       "<p>5 rows × 2666 columns</p>\n",
       "</div>"
      ],
      "text/plain": [
       "   QUESTID2    FILEDATE  CIGEVER  CIGOFRSM  CIGWILYR  CIGTRY  CIGYFU  CIGMFU  \\\n",
       "0  25095143  10/20/2016        1        99        99      16    2014       1   \n",
       "1  13005143  10/20/2016        1        99        99      15    9999      99   \n",
       "2  67415143  10/20/2016        2        99        99     991    9991      91   \n",
       "3  70925143  10/20/2016        2         3         4     991    9991      91   \n",
       "4  75235143  10/20/2016        1        99        99      17    9999      99   \n",
       "\n",
       "   CIGREC  CIG30USE  ...    POVERTY3  TOOLONG  TROUBUND  PDEN10  COUTYP2  \\\n",
       "0       2        93  ...         1.0        2         2       3        3   \n",
       "1       3        93  ...         2.0        1         2       2        2   \n",
       "2      91        91  ...         1.0        2         2       2        3   \n",
       "3      91        91  ...         3.0        2         2       2        2   \n",
       "4       1        22  ...         1.0        2         2       3        3   \n",
       "\n",
       "   MAIIN102  AIIND102     ANALWT_C  VESTR  VEREP  \n",
       "0         2         2  1088.413235  40028      1  \n",
       "1         2         2  4423.360328  40025      1  \n",
       "2         2         2   328.111801  40004      2  \n",
       "3         2         2   235.290450  40027      1  \n",
       "4         2         2  2280.878615  40011      1  \n",
       "\n",
       "[5 rows x 2666 columns]"
      ]
     },
     "execution_count": 4,
     "metadata": {},
     "output_type": "execute_result"
    }
   ],
   "source": [
    "drug_use.head()"
   ]
  },
  {
   "cell_type": "code",
   "execution_count": 5,
   "metadata": {},
   "outputs": [
    {
     "data": {
      "text/plain": [
       "(57146, 2666)"
      ]
     },
     "execution_count": 5,
     "metadata": {},
     "output_type": "execute_result"
    }
   ],
   "source": [
    "drug_use.shape"
   ]
  },
  {
   "cell_type": "code",
   "execution_count": 6,
   "metadata": {
    "collapsed": true
   },
   "outputs": [],
   "source": [
    "pain_col = [col for col in drug_use if col.startswith('PNR')]\n",
    "oxy_col =  [col for col in drug_use if col.startswith('OXC')]\n",
    "heroin_col = [col for col in drug_use if col.startswith('HER')]\n",
    "heroin2_col = [col for col in drug_use if col.startswith('HR')]"
   ]
  },
  {
   "cell_type": "code",
   "execution_count": null,
   "metadata": {},
   "outputs": [],
   "source": []
  },
  {
   "cell_type": "code",
   "execution_count": null,
   "metadata": {
    "collapsed": true
   },
   "outputs": [],
   "source": []
  }
 ],
 "metadata": {
  "kernelspec": {
   "display_name": "Python 3",
   "language": "python",
   "name": "python3"
  },
  "language_info": {
   "codemirror_mode": {
    "name": "ipython",
    "version": 3
   },
   "file_extension": ".py",
   "mimetype": "text/x-python",
   "name": "python",
   "nbconvert_exporter": "python",
   "pygments_lexer": "ipython3",
   "version": "3.6.2"
  }
 },
 "nbformat": 4,
 "nbformat_minor": 2
}
